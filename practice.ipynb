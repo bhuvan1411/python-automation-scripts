{
 "cells": [
  {
   "cell_type": "markdown",
   "id": "c0fd5d6b",
   "metadata": {
    "vscode": {
     "languageId": "plaintext"
    }
   },
   "source": [
    "CALCULATOR"
   ]
  },
  {
   "cell_type": "code",
   "execution_count": null,
   "id": "c081e7ac",
   "metadata": {},
   "outputs": [],
   "source": [
    "num1=int(input())\n",
    "num2=int(input())\n",
    "print(f\"SUM:{num1+num2}\")\n",
    "print(f\"PRODUCT:{num1*num2}\")\n",
    "print(f\"DIFFERENCE:{num1/num2}\")"
   ]
  },
  {
   "cell_type": "markdown",
   "id": "65576404",
   "metadata": {},
   "source": [
    "USER INFORMATION"
   ]
  },
  {
   "cell_type": "code",
   "execution_count": null,
   "id": "47bf3f48",
   "metadata": {},
   "outputs": [],
   "source": [
    "name=input()\n",
    "age=int(input())\n",
    "print(f\"I'm {name}, {age} years old.\")"
   ]
  },
  {
   "cell_type": "markdown",
   "id": "ee658dfc",
   "metadata": {},
   "source": [
    "TEMPERATURE CONVERTER\n"
   ]
  },
  {
   "cell_type": "code",
   "execution_count": null,
   "id": "1a89fa29",
   "metadata": {},
   "outputs": [],
   "source": [
    "celsius=float(input())\n",
    "fahrenheit=(celsius*9/5)+32\n",
    "print(f\"{celsius} = {fahrenheit}\")"
   ]
  },
  {
   "cell_type": "markdown",
   "id": "089be623",
   "metadata": {},
   "source": [
    "LIST"
   ]
  },
  {
   "cell_type": "code",
   "execution_count": null,
   "id": "a002a0e2",
   "metadata": {},
   "outputs": [],
   "source": [
    "fruits=[\"apple\",\"banana\",\"mango\",\"watermelon\",\"pineapple\",\"apple\"]\n",
    "\n",
    "# print(dir(fruits))\n",
    "# print(help(fruits))   #functions\n",
    "\n",
    "# vegetables=[]   \n",
    "# print(vegetables)  #creating\n",
    "\n",
    "# fruits.append(\"sugarcane\")  \n",
    "# fruits.insert(0,\"guava\")    #adding\n",
    "\n",
    "# print(fruits[1])    \n",
    "# print(fruits[1:5])  #reading\n",
    "\n",
    "# fruits.pop()    #last element deleting\n",
    "# fruits.remove(\"pineapple\")  #deleting\n",
    "\n",
    "# fruits.reverse()  #reversing\n",
    "# fruits.sort()   #sorting\n",
    "\n",
    "# print(fruits.count(\"apple\"))    #counting\n",
    "\n",
    "# fruits.clear()    #clearing\n",
    "\n",
    "# print(\"apple\" in fruits)    #boolean\n",
    "\n",
    "# print(fruits)\n",
    "for fruit in fruits:\n",
    "    print(fruit)"
   ]
  },
  {
   "cell_type": "markdown",
   "id": "c4ae8d30",
   "metadata": {},
   "source": [
    "SET\n"
   ]
  },
  {
   "cell_type": "code",
   "execution_count": null,
   "id": "2a4056f3",
   "metadata": {},
   "outputs": [],
   "source": [
    "fruits={\"apple\",\"banana\",\"mango\",\"watermelon\",\"pineapple\",\"apple\"}\n",
    "\n",
    "# print(dir(fruits))\n",
    "# print(help(fruits))   #functions\n",
    "\n",
    "# print(len(fruits))    #counting\n",
    "\n",
    "# print(\"apple\" in fruits)    #boolean\n",
    "\n",
    "# fruits.add(\"guava\") #adding\n",
    "\n",
    "# fruits.pop()    \n",
    "# fruits.remove(\"apple\")  #deleting\n",
    "\n",
    "# print(fruits)\n",
    "# for fruit in fruits:\n",
    "#     print(fruit)"
   ]
  },
  {
   "cell_type": "markdown",
   "id": "bdbbbbc3",
   "metadata": {},
   "source": [
    "TUPLE"
   ]
  },
  {
   "cell_type": "code",
   "execution_count": null,
   "id": "952aabc5",
   "metadata": {},
   "outputs": [],
   "source": [
    "fruits=(\"apple\",\"banana\",\"mango\",\"watermelon\",\"pineapple\",\"apple\")\n",
    "\n",
    "# print(dir(fruits))\n",
    "# print(help(fruits))   #functions\n",
    "\n",
    "# print(len(fruits))    #counting\n",
    "\n",
    "# print(\"apple\" in fruits)    #boolean\n",
    "\n",
    "# print(fruits.index(\"apple\"))\n",
    "# print(fruits.index(\"apple\",1))  #indexing\n",
    "\n",
    "print(fruits)"
   ]
  },
  {
   "cell_type": "markdown",
   "id": "29efc637",
   "metadata": {},
   "source": [
    "DICTIONARY"
   ]
  },
  {
   "cell_type": "code",
   "execution_count": null,
   "id": "1e52aa7a",
   "metadata": {},
   "outputs": [],
   "source": [
    "data={\"bhuvan\":\"fullstack\",\"gokul\":\"devops\",\"gowtham\":\"tester\"}\n",
    "\n",
    "# print(data[\"gokul\"])  #value\n",
    "\n",
    "# print(data[\"sanketh\"])    #error\n",
    "\n",
    "# data.get(\"bhuvan\")    #value\n",
    "\n",
    "# data.get(\"sanketh\",\"key not found\")   #not found message\n",
    "\n",
    "# data[\"sanketh\"]=\"ML\"    #adding\n",
    "\n",
    "# del data[\"gokul\"]   #deleting\n",
    "\n",
    "# keys=[\"messi\",\"neymar\",\"ronaldo\"]\n",
    "# values=[\"fc barcelona\",\"paris saint german\",\"real madrid\"]\n",
    "# team=dict(zip(keys,values))\n",
    "# print(team)           #two list giving dictionary\n",
    "\n",
    "# prog={\"java\":[\"eclipse\",\"vscode\"],\"python\":{\"package\":\"pycharm\",\"file\":\"vsccode\"},\"javascript\":\"atom\"}\n",
    "# # print(prog)\n",
    "# # print(prog[\"java\"])\n",
    "# print(prog[\"python\"][\"package\"])          #multiple collecions inside dictionary\n",
    "\n",
    "# print(data)"
   ]
  },
  {
   "cell_type": "markdown",
   "id": "561f3a6a",
   "metadata": {},
   "source": [
    "MAXIMUM OF THREE NUMBERS."
   ]
  },
  {
   "cell_type": "code",
   "execution_count": null,
   "id": "110adbe4",
   "metadata": {},
   "outputs": [],
   "source": [
    "num1=int(input())\n",
    "num2=int(input())\n",
    "num3=int(input())\n",
    "\n",
    "if num1>num2 and num1>num3:\n",
    "    print(\"MAXIMUM NUMBER:\",num1)\n",
    "elif num2>num1 and num2>num3:\n",
    "    print(\"MAXIMUM NUMBER:\",num2)\n",
    "else:\n",
    "    print(\"MAXIMUM NUMBER:\",num3)"
   ]
  },
  {
   "cell_type": "code",
   "execution_count": null,
   "id": "07aff4cc",
   "metadata": {},
   "outputs": [],
   "source": [
    "num1=int(input())\n",
    "num2=int(input())\n",
    "num3=int(input())\n",
    "\n",
    "print(\"MAXIMUM NUMBER:\",max(num1,num2,num3))\n"
   ]
  },
  {
   "cell_type": "markdown",
   "id": "c56eef0f",
   "metadata": {},
   "source": [
    "COUNT VOWELS IN THE STRING."
   ]
  },
  {
   "cell_type": "code",
   "execution_count": null,
   "id": "a1bde17a",
   "metadata": {},
   "outputs": [],
   "source": [
    "st=\"today is a wonderfull day\"\n",
    "vowels=['a','e','i','o','u']\n",
    "c=0\n",
    "for ch in st:\n",
    "    if ch in vowels:\n",
    "        c+=1\n",
    "print(\"TOTAL NUMBER OF VOWELS\",c)"
   ]
  },
  {
   "cell_type": "markdown",
   "id": "a7d68aea",
   "metadata": {},
   "source": [
    "SUM OF EVEN NUMBERS IN A LIST."
   ]
  },
  {
   "cell_type": "code",
   "execution_count": null,
   "id": "725b8d65",
   "metadata": {},
   "outputs": [],
   "source": [
    "li=[1,2,4,6,3,2,5,7,3,6,8,3,7,3,10]\n",
    "even_sum=0\n",
    "for ele in li:\n",
    "    if ele%2==0:\n",
    "        even_sum+=ele\n",
    "print(even_sum)"
   ]
  },
  {
   "cell_type": "markdown",
   "id": "74e29fd4",
   "metadata": {},
   "source": [
    "FILE HANDLING\n"
   ]
  },
  {
   "cell_type": "code",
   "execution_count": null,
   "id": "6a4cf6c6",
   "metadata": {},
   "outputs": [],
   "source": [
    "# f1=open(\"file_1.txt\",\"x\")   #file creatinon\n",
    "\n",
    "# f1=open(\"file_1.txt\",\"r\")   \n",
    "# data=f1.read()\n",
    "# print(data)     #file reading\n",
    "\n",
    "# f1=open(\"file_1.txt\")   \n",
    "# data=f1.read()\n",
    "# print(data)     #file reading\n",
    "\n",
    "# f1=open(\"file_1.txt\",\"w\")\n",
    "# f1.write(\"today is tuesday, tuesday is today\")\n",
    "# f1.close()        #file overwriting\n",
    "\n",
    "# f1=open(\"file_1.txt\",\"r+\")\n",
    "# print(f1.read())\n",
    "# f1.write(\"Good things take time.\")\n",
    "# f1.close()      #reading and writing\n",
    "\n",
    "# f1=open(\"file_1.txt\",\"r+\")\n",
    "# f1.write(\"consistency is the key\")\n",
    "# print(f1.read())\n",
    "# f1.close()         #writing and reading\n",
    "\n",
    "# f1=open(\"file_1.txt\",\"r+\")\n",
    "# print(f1.tell())\n",
    "# f1.write(\"consistency is the key\")\n",
    "# print(f1.tell())\n",
    "# print(f1.read())\n",
    "# print(f1.tell())\n",
    "# f1.close()         #writing, reading along with coursor position denotion\n",
    "\n",
    "# f1=open(\"file_1.txt\",\"w+\")\n",
    "# f1.write(\"hello everyone, \")\n",
    "# f1.write(\"day3 of my devops journey \")\n",
    "# f1.seek(0)          #move the cursor to the zeroth position in file\n",
    "# data=f1.read()\n",
    "# print(data)\n",
    "# f1.close()          #writing, reading along with displaying\n",
    "\n",
    "# f1=open(\"file_1.txt\",\"a\")\n",
    "# f1.write(\"wish me luck\")\n",
    "# f1.close()             #writing and overriding\n",
    "\n",
    "# f1=open(\"file_1.txt\",\"a+\")\n",
    "# f1.write(\" by bhuvan\")\n",
    "# f1.seek(0)              #move the cursor to the zeroth position in file\n",
    "# print(f1.read())\n",
    "# f1.close()              #overriding and printing\n",
    "\n",
    "f1=open(r\"C:\\Users\\Bhuvan\\Pictures\\Saved Pictures\\photo.jpg\",\"rb\")\n",
    "print(f1.read())        #reading the image\n",
    "\n",
    "f1=open(r\"C:\\Users\\Bhuvan\\Pictures\\Saved Pictures\\photo.jpg\",\"rb\")\n",
    "f2=open(r\"C:\\Users\\Bhuvan\\Pictures\\Saved Pictures\\photo10.jpg\",\"wb\")\n",
    "for i in f1:\n",
    "    f2.write(i)         #reading the image and sending the image to another  \n",
    "\n"
   ]
  },
  {
   "cell_type": "markdown",
   "id": "3c155235",
   "metadata": {},
   "source": [
    "TRY AND EXCEPT"
   ]
  },
  {
   "cell_type": "code",
   "execution_count": null,
   "id": "76861bd7",
   "metadata": {},
   "outputs": [
    {
     "name": "stdout",
     "output_type": "stream",
     "text": [
      "100\n",
      "90\n",
      "unsupported operand type(s) for +: 'int' and 'str'\n",
      "80\n",
      "Execution completed\n"
     ]
    }
   ],
   "source": [
    "def addition(num1,num2):\n",
    "    try:\n",
    "        return(num1+num2)\n",
    "    except TypeError:\n",
    "        return(\"Invalid Datatype\")\n",
    "    except NameError:\n",
    "        return(\"Invalid Name\")\n",
    "    except Exception as e:      #keep at last\n",
    "        return(e)\n",
    "    \n",
    "\n",
    "    \n",
    "print(addition(10,90))\n",
    "print(addition(10,80))\n",
    "print(addition(10,\"a\"))\n",
    "print(addition(10,70))\n",
    "print(\"Execution completed!!\")"
   ]
  },
  {
   "cell_type": "markdown",
   "id": "8247775e",
   "metadata": {},
   "source": [
    "RAISE EXCEPTION"
   ]
  },
  {
   "cell_type": "code",
   "execution_count": 47,
   "id": "ee12d6b4",
   "metadata": {},
   "outputs": [
    {
     "name": "stdout",
     "output_type": "stream",
     "text": [
      "100\n",
      "90\n",
      "Only Integers are allowed\n",
      "80\n",
      "Execution completed!!\n"
     ]
    }
   ],
   "source": [
    "def addition(num1,num2):\n",
    "    try:\n",
    "        if isinstance(num1,int) and isinstance(num2,int):\n",
    "            return(num1+num2)\n",
    "        else:\n",
    "            raise Exception(\"Only Integers are allowed\")\n",
    "    except Exception as e:\n",
    "        return(e)\n",
    "\n",
    "print(addition(10,90))\n",
    "print(addition(10,80))\n",
    "print(addition('b',\"a\"))\n",
    "print(addition(10,70))\n",
    "print(\"Execution completed!!\")"
   ]
  },
  {
   "cell_type": "markdown",
   "id": "c1927ae2",
   "metadata": {},
   "source": [
    "ELSE AND FINALLY"
   ]
  },
  {
   "cell_type": "code",
   "execution_count": 51,
   "id": "0797022b",
   "metadata": {},
   "outputs": [
    {
     "name": "stdout",
     "output_type": "stream",
     "text": [
      "100\n",
      "Value added succesfully\n",
      "Operation ended\n",
      "\n",
      "unsupported operand type(s) for +: 'int' and 'str'\n",
      "Operation ended\n"
     ]
    }
   ],
   "source": [
    "def addition(num1,num2):\n",
    "    try:\n",
    "        print(num1+num2)\n",
    "    except Exception as e:\n",
    "        print(e)\n",
    "    else:\n",
    "        print(\"Value added succesfully\")\n",
    "    finally:\n",
    "        print(\"Operation ended\")\n",
    "\n",
    "addition(10,90)\n",
    "print()\n",
    "addition(10,\"a\")\n"
   ]
  }
 ],
 "metadata": {
  "kernelspec": {
   "display_name": "base",
   "language": "python",
   "name": "python3"
  },
  "language_info": {
   "codemirror_mode": {
    "name": "ipython",
    "version": 3
   },
   "file_extension": ".py",
   "mimetype": "text/x-python",
   "name": "python",
   "nbconvert_exporter": "python",
   "pygments_lexer": "ipython3",
   "version": "3.12.4"
  }
 },
 "nbformat": 4,
 "nbformat_minor": 5
}

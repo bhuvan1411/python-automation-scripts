{
 "cells": [
  {
   "cell_type": "markdown",
   "id": "c0fd5d6b",
   "metadata": {
    "vscode": {
     "languageId": "plaintext"
    }
   },
   "source": [
    "CALCULATOR"
   ]
  },
  {
   "cell_type": "code",
   "execution_count": 1,
   "id": "c081e7ac",
   "metadata": {},
   "outputs": [
    {
     "name": "stdout",
     "output_type": "stream",
     "text": [
      "SUM:13\n",
      "PRODUCT:30\n",
      "DIFFERENCE:3.3333333333333335\n"
     ]
    }
   ],
   "source": [
    "num1=int(input())\n",
    "num2=int(input())\n",
    "print(f\"SUM:{num1+num2}\")\n",
    "print(f\"PRODUCT:{num1*num2}\")\n",
    "print(f\"DIFFERENCE:{num1/num2}\")"
   ]
  },
  {
   "cell_type": "markdown",
   "id": "65576404",
   "metadata": {},
   "source": [
    "USER INFORMATION"
   ]
  },
  {
   "cell_type": "code",
   "execution_count": null,
   "id": "47bf3f48",
   "metadata": {},
   "outputs": [
    {
     "name": "stdout",
     "output_type": "stream",
     "text": [
      "I'm bhuvan, 22 old.\n"
     ]
    }
   ],
   "source": [
    "name=input()\n",
    "age=int(input())\n",
    "print(f\"I'm {name}, {age} years old.\")"
   ]
  },
  {
   "cell_type": "markdown",
   "id": "ee658dfc",
   "metadata": {},
   "source": [
    "TEMPERATURE CONVERTER\n"
   ]
  },
  {
   "cell_type": "code",
   "execution_count": 3,
   "id": "1a89fa29",
   "metadata": {},
   "outputs": [
    {
     "name": "stdout",
     "output_type": "stream",
     "text": [
      "22.9 = 73.22\n"
     ]
    }
   ],
   "source": [
    "celsius=float(input())\n",
    "fahrenheit=(celsius*9/5)+32\n",
    "print(f\"{celsius} = {fahrenheit}\")"
   ]
  }
 ],
 "metadata": {
  "kernelspec": {
   "display_name": "base",
   "language": "python",
   "name": "python3"
  },
  "language_info": {
   "codemirror_mode": {
    "name": "ipython",
    "version": 3
   },
   "file_extension": ".py",
   "mimetype": "text/x-python",
   "name": "python",
   "nbconvert_exporter": "python",
   "pygments_lexer": "ipython3",
   "version": "3.12.4"
  }
 },
 "nbformat": 4,
 "nbformat_minor": 5
}
